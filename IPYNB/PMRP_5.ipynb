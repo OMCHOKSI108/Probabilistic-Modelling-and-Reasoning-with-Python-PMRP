{
 "cells": [
  {
   "cell_type": "markdown",
   "metadata": {},
   "source": [
    "<h1>23AIML010 OM CHOKSI PMRP ASSIGNMENT 5 + CLASSWORK <h1>"
   ]
  },
  {
   "cell_type": "markdown",
   "metadata": {},
   "source": [
    "<h1>CLASSWORK QUESTIONS<h1>"
   ]
  },
  {
   "cell_type": "markdown",
   "metadata": {},
   "source": [
    "<h1>IPL DATA ANALYTICS<h1>"
   ]
  },
  {
   "cell_type": "markdown",
   "metadata": {},
   "source": [
    "\n",
    "1.\tCalculate the total number of matches played in each season\n",
    "2.\tFind the most successful team (team with the most wins)\n",
    "3.\tFind the average margin of victory by wickets and by runs\n",
    "4. Which player won the most 'Player of the Match awards?\n",
    " \n",
    "5.\tFind the number of matches where the toss winner won the match\n",
    "6.\tCalculate the total number of runs scored in all matches for each team\n",
    " \n",
    "7.\tDetermine the average number of wickets taken by the winning team in each match\n",
    "8.\tHow many matches were decided by a Super Over?\n",
    " \n",
    "9.\tFind the distribution of match results (runs vs wickets)\n",
    " \n",
    "10.\tFind the top 5 venues with the most matches played\n",
    "11.\tFind the match with the highest margin of victory (by wickets or runs)\n",
    " \n",
    "12.\tCalculate the win percentage for each team\n",
    "13.\tFind the average number of overs played in all matches\n",
    " \n",
    "14.\tFind the most common match outcome (runs, wickets, or no result)\n",
    "15.\tFind the total number of matches played at each venue by year\n",
    "16.\tAnalyze the win margin distribution by year\n",
    " \n",
    "17.\tCalculate the total number of 'no result' matches and their impact on the tournament\n",
    " \n",
    "18.\tHow many matches were won by teams batting first vs. batting second?\n",
    "19.\tFind out the average number of runs scored by the winning team\n",
    " \n",
    "20.\tIdentify the most successful captain (team with the most wins under a captain)\n"
   ]
  },
  {
   "cell_type": "code",
   "execution_count": 77,
   "metadata": {},
   "outputs": [
    {
     "data": {
      "text/plain": [
       "(<bound method NDFrame.head of            id   season        city        date   match_type  player_of_match  \\\n",
       " 0      335982  2007/08   Bangalore  2008-04-18       League      BB McCullum   \n",
       " 1      335983  2007/08  Chandigarh  2008-04-19       League       MEK Hussey   \n",
       " 2      335984  2007/08       Delhi  2008-04-19       League      MF Maharoof   \n",
       " 3      335985  2007/08      Mumbai  2008-04-20       League       MV Boucher   \n",
       " 4      335986  2007/08     Kolkata  2008-04-20       League        DJ Hussey   \n",
       " ...       ...      ...         ...         ...          ...              ...   \n",
       " 1090  1426307     2024   Hyderabad  2024-05-19       League  Abhishek Sharma   \n",
       " 1091  1426309     2024   Ahmedabad  2024-05-21  Qualifier 1         MA Starc   \n",
       " 1092  1426310     2024   Ahmedabad  2024-05-22   Eliminator         R Ashwin   \n",
       " 1093  1426311     2024     Chennai  2024-05-24  Qualifier 2    Shahbaz Ahmed   \n",
       " 1094  1426312     2024     Chennai  2024-05-26        Final         MA Starc   \n",
       " \n",
       "                                                   venue  \\\n",
       " 0                                 M Chinnaswamy Stadium   \n",
       " 1            Punjab Cricket Association Stadium, Mohali   \n",
       " 2                                      Feroz Shah Kotla   \n",
       " 3                                      Wankhede Stadium   \n",
       " 4                                          Eden Gardens   \n",
       " ...                                                 ...   \n",
       " 1090  Rajiv Gandhi International Stadium, Uppal, Hyd...   \n",
       " 1091                   Narendra Modi Stadium, Ahmedabad   \n",
       " 1092                   Narendra Modi Stadium, Ahmedabad   \n",
       " 1093           MA Chidambaram Stadium, Chepauk, Chennai   \n",
       " 1094           MA Chidambaram Stadium, Chepauk, Chennai   \n",
       " \n",
       "                             team1                        team2  \\\n",
       " 0     Royal Challengers Bangalore        Kolkata Knight Riders   \n",
       " 1                 Kings XI Punjab          Chennai Super Kings   \n",
       " 2                Delhi Daredevils             Rajasthan Royals   \n",
       " 3                  Mumbai Indians  Royal Challengers Bangalore   \n",
       " 4           Kolkata Knight Riders              Deccan Chargers   \n",
       " ...                           ...                          ...   \n",
       " 1090                 Punjab Kings          Sunrisers Hyderabad   \n",
       " 1091          Sunrisers Hyderabad        Kolkata Knight Riders   \n",
       " 1092  Royal Challengers Bengaluru             Rajasthan Royals   \n",
       " 1093          Sunrisers Hyderabad             Rajasthan Royals   \n",
       " 1094          Sunrisers Hyderabad        Kolkata Knight Riders   \n",
       " \n",
       "                       toss_winner toss_decision                       winner  \\\n",
       " 0     Royal Challengers Bangalore         field        Kolkata Knight Riders   \n",
       " 1             Chennai Super Kings           bat          Chennai Super Kings   \n",
       " 2                Rajasthan Royals           bat             Delhi Daredevils   \n",
       " 3                  Mumbai Indians           bat  Royal Challengers Bangalore   \n",
       " 4                 Deccan Chargers           bat        Kolkata Knight Riders   \n",
       " ...                           ...           ...                          ...   \n",
       " 1090                 Punjab Kings           bat          Sunrisers Hyderabad   \n",
       " 1091          Sunrisers Hyderabad           bat        Kolkata Knight Riders   \n",
       " 1092             Rajasthan Royals         field             Rajasthan Royals   \n",
       " 1093             Rajasthan Royals         field          Sunrisers Hyderabad   \n",
       " 1094          Sunrisers Hyderabad           bat        Kolkata Knight Riders   \n",
       " \n",
       "        result  result_margin  target_runs  target_overs super_over method  \\\n",
       " 0        runs          140.0        223.0          20.0          N    NaN   \n",
       " 1        runs           33.0        241.0          20.0          N    NaN   \n",
       " 2     wickets            9.0        130.0          20.0          N    NaN   \n",
       " 3     wickets            5.0        166.0          20.0          N    NaN   \n",
       " 4     wickets            5.0        111.0          20.0          N    NaN   \n",
       " ...       ...            ...          ...           ...        ...    ...   \n",
       " 1090  wickets            4.0        215.0          20.0          N    NaN   \n",
       " 1091  wickets            8.0        160.0          20.0          N    NaN   \n",
       " 1092  wickets            4.0        173.0          20.0          N    NaN   \n",
       " 1093     runs           36.0        176.0          20.0          N    NaN   \n",
       " 1094  wickets            8.0        114.0          20.0          N    NaN   \n",
       " \n",
       "                     umpire1               umpire2  \n",
       " 0                 Asad Rauf           RE Koertzen  \n",
       " 1                 MR Benson            SL Shastri  \n",
       " 2                 Aleem Dar        GA Pratapkumar  \n",
       " 3                  SJ Davis             DJ Harper  \n",
       " 4                 BF Bowden           K Hariharan  \n",
       " ...                     ...                   ...  \n",
       " 1090            Nitin Menon             VK Sharma  \n",
       " 1091           AK Chaudhary              R Pandit  \n",
       " 1092  KN Ananthapadmanabhan  MV Saidharshan Kumar  \n",
       " 1093            Nitin Menon             VK Sharma  \n",
       " 1094          J Madanagopal           Nitin Menon  \n",
       " \n",
       " [1095 rows x 20 columns]>,\n",
       " <bound method NDFrame.tail of            id   season        city        date   match_type  player_of_match  \\\n",
       " 0      335982  2007/08   Bangalore  2008-04-18       League      BB McCullum   \n",
       " 1      335983  2007/08  Chandigarh  2008-04-19       League       MEK Hussey   \n",
       " 2      335984  2007/08       Delhi  2008-04-19       League      MF Maharoof   \n",
       " 3      335985  2007/08      Mumbai  2008-04-20       League       MV Boucher   \n",
       " 4      335986  2007/08     Kolkata  2008-04-20       League        DJ Hussey   \n",
       " ...       ...      ...         ...         ...          ...              ...   \n",
       " 1090  1426307     2024   Hyderabad  2024-05-19       League  Abhishek Sharma   \n",
       " 1091  1426309     2024   Ahmedabad  2024-05-21  Qualifier 1         MA Starc   \n",
       " 1092  1426310     2024   Ahmedabad  2024-05-22   Eliminator         R Ashwin   \n",
       " 1093  1426311     2024     Chennai  2024-05-24  Qualifier 2    Shahbaz Ahmed   \n",
       " 1094  1426312     2024     Chennai  2024-05-26        Final         MA Starc   \n",
       " \n",
       "                                                   venue  \\\n",
       " 0                                 M Chinnaswamy Stadium   \n",
       " 1            Punjab Cricket Association Stadium, Mohali   \n",
       " 2                                      Feroz Shah Kotla   \n",
       " 3                                      Wankhede Stadium   \n",
       " 4                                          Eden Gardens   \n",
       " ...                                                 ...   \n",
       " 1090  Rajiv Gandhi International Stadium, Uppal, Hyd...   \n",
       " 1091                   Narendra Modi Stadium, Ahmedabad   \n",
       " 1092                   Narendra Modi Stadium, Ahmedabad   \n",
       " 1093           MA Chidambaram Stadium, Chepauk, Chennai   \n",
       " 1094           MA Chidambaram Stadium, Chepauk, Chennai   \n",
       " \n",
       "                             team1                        team2  \\\n",
       " 0     Royal Challengers Bangalore        Kolkata Knight Riders   \n",
       " 1                 Kings XI Punjab          Chennai Super Kings   \n",
       " 2                Delhi Daredevils             Rajasthan Royals   \n",
       " 3                  Mumbai Indians  Royal Challengers Bangalore   \n",
       " 4           Kolkata Knight Riders              Deccan Chargers   \n",
       " ...                           ...                          ...   \n",
       " 1090                 Punjab Kings          Sunrisers Hyderabad   \n",
       " 1091          Sunrisers Hyderabad        Kolkata Knight Riders   \n",
       " 1092  Royal Challengers Bengaluru             Rajasthan Royals   \n",
       " 1093          Sunrisers Hyderabad             Rajasthan Royals   \n",
       " 1094          Sunrisers Hyderabad        Kolkata Knight Riders   \n",
       " \n",
       "                       toss_winner toss_decision                       winner  \\\n",
       " 0     Royal Challengers Bangalore         field        Kolkata Knight Riders   \n",
       " 1             Chennai Super Kings           bat          Chennai Super Kings   \n",
       " 2                Rajasthan Royals           bat             Delhi Daredevils   \n",
       " 3                  Mumbai Indians           bat  Royal Challengers Bangalore   \n",
       " 4                 Deccan Chargers           bat        Kolkata Knight Riders   \n",
       " ...                           ...           ...                          ...   \n",
       " 1090                 Punjab Kings           bat          Sunrisers Hyderabad   \n",
       " 1091          Sunrisers Hyderabad           bat        Kolkata Knight Riders   \n",
       " 1092             Rajasthan Royals         field             Rajasthan Royals   \n",
       " 1093             Rajasthan Royals         field          Sunrisers Hyderabad   \n",
       " 1094          Sunrisers Hyderabad           bat        Kolkata Knight Riders   \n",
       " \n",
       "        result  result_margin  target_runs  target_overs super_over method  \\\n",
       " 0        runs          140.0        223.0          20.0          N    NaN   \n",
       " 1        runs           33.0        241.0          20.0          N    NaN   \n",
       " 2     wickets            9.0        130.0          20.0          N    NaN   \n",
       " 3     wickets            5.0        166.0          20.0          N    NaN   \n",
       " 4     wickets            5.0        111.0          20.0          N    NaN   \n",
       " ...       ...            ...          ...           ...        ...    ...   \n",
       " 1090  wickets            4.0        215.0          20.0          N    NaN   \n",
       " 1091  wickets            8.0        160.0          20.0          N    NaN   \n",
       " 1092  wickets            4.0        173.0          20.0          N    NaN   \n",
       " 1093     runs           36.0        176.0          20.0          N    NaN   \n",
       " 1094  wickets            8.0        114.0          20.0          N    NaN   \n",
       " \n",
       "                     umpire1               umpire2  \n",
       " 0                 Asad Rauf           RE Koertzen  \n",
       " 1                 MR Benson            SL Shastri  \n",
       " 2                 Aleem Dar        GA Pratapkumar  \n",
       " 3                  SJ Davis             DJ Harper  \n",
       " 4                 BF Bowden           K Hariharan  \n",
       " ...                     ...                   ...  \n",
       " 1090            Nitin Menon             VK Sharma  \n",
       " 1091           AK Chaudhary              R Pandit  \n",
       " 1092  KN Ananthapadmanabhan  MV Saidharshan Kumar  \n",
       " 1093            Nitin Menon             VK Sharma  \n",
       " 1094          J Madanagopal           Nitin Menon  \n",
       " \n",
       " [1095 rows x 20 columns]>,\n",
       " <bound method NDFrame.describe of            id   season        city        date   match_type  player_of_match  \\\n",
       " 0      335982  2007/08   Bangalore  2008-04-18       League      BB McCullum   \n",
       " 1      335983  2007/08  Chandigarh  2008-04-19       League       MEK Hussey   \n",
       " 2      335984  2007/08       Delhi  2008-04-19       League      MF Maharoof   \n",
       " 3      335985  2007/08      Mumbai  2008-04-20       League       MV Boucher   \n",
       " 4      335986  2007/08     Kolkata  2008-04-20       League        DJ Hussey   \n",
       " ...       ...      ...         ...         ...          ...              ...   \n",
       " 1090  1426307     2024   Hyderabad  2024-05-19       League  Abhishek Sharma   \n",
       " 1091  1426309     2024   Ahmedabad  2024-05-21  Qualifier 1         MA Starc   \n",
       " 1092  1426310     2024   Ahmedabad  2024-05-22   Eliminator         R Ashwin   \n",
       " 1093  1426311     2024     Chennai  2024-05-24  Qualifier 2    Shahbaz Ahmed   \n",
       " 1094  1426312     2024     Chennai  2024-05-26        Final         MA Starc   \n",
       " \n",
       "                                                   venue  \\\n",
       " 0                                 M Chinnaswamy Stadium   \n",
       " 1            Punjab Cricket Association Stadium, Mohali   \n",
       " 2                                      Feroz Shah Kotla   \n",
       " 3                                      Wankhede Stadium   \n",
       " 4                                          Eden Gardens   \n",
       " ...                                                 ...   \n",
       " 1090  Rajiv Gandhi International Stadium, Uppal, Hyd...   \n",
       " 1091                   Narendra Modi Stadium, Ahmedabad   \n",
       " 1092                   Narendra Modi Stadium, Ahmedabad   \n",
       " 1093           MA Chidambaram Stadium, Chepauk, Chennai   \n",
       " 1094           MA Chidambaram Stadium, Chepauk, Chennai   \n",
       " \n",
       "                             team1                        team2  \\\n",
       " 0     Royal Challengers Bangalore        Kolkata Knight Riders   \n",
       " 1                 Kings XI Punjab          Chennai Super Kings   \n",
       " 2                Delhi Daredevils             Rajasthan Royals   \n",
       " 3                  Mumbai Indians  Royal Challengers Bangalore   \n",
       " 4           Kolkata Knight Riders              Deccan Chargers   \n",
       " ...                           ...                          ...   \n",
       " 1090                 Punjab Kings          Sunrisers Hyderabad   \n",
       " 1091          Sunrisers Hyderabad        Kolkata Knight Riders   \n",
       " 1092  Royal Challengers Bengaluru             Rajasthan Royals   \n",
       " 1093          Sunrisers Hyderabad             Rajasthan Royals   \n",
       " 1094          Sunrisers Hyderabad        Kolkata Knight Riders   \n",
       " \n",
       "                       toss_winner toss_decision                       winner  \\\n",
       " 0     Royal Challengers Bangalore         field        Kolkata Knight Riders   \n",
       " 1             Chennai Super Kings           bat          Chennai Super Kings   \n",
       " 2                Rajasthan Royals           bat             Delhi Daredevils   \n",
       " 3                  Mumbai Indians           bat  Royal Challengers Bangalore   \n",
       " 4                 Deccan Chargers           bat        Kolkata Knight Riders   \n",
       " ...                           ...           ...                          ...   \n",
       " 1090                 Punjab Kings           bat          Sunrisers Hyderabad   \n",
       " 1091          Sunrisers Hyderabad           bat        Kolkata Knight Riders   \n",
       " 1092             Rajasthan Royals         field             Rajasthan Royals   \n",
       " 1093             Rajasthan Royals         field          Sunrisers Hyderabad   \n",
       " 1094          Sunrisers Hyderabad           bat        Kolkata Knight Riders   \n",
       " \n",
       "        result  result_margin  target_runs  target_overs super_over method  \\\n",
       " 0        runs          140.0        223.0          20.0          N    NaN   \n",
       " 1        runs           33.0        241.0          20.0          N    NaN   \n",
       " 2     wickets            9.0        130.0          20.0          N    NaN   \n",
       " 3     wickets            5.0        166.0          20.0          N    NaN   \n",
       " 4     wickets            5.0        111.0          20.0          N    NaN   \n",
       " ...       ...            ...          ...           ...        ...    ...   \n",
       " 1090  wickets            4.0        215.0          20.0          N    NaN   \n",
       " 1091  wickets            8.0        160.0          20.0          N    NaN   \n",
       " 1092  wickets            4.0        173.0          20.0          N    NaN   \n",
       " 1093     runs           36.0        176.0          20.0          N    NaN   \n",
       " 1094  wickets            8.0        114.0          20.0          N    NaN   \n",
       " \n",
       "                     umpire1               umpire2  \n",
       " 0                 Asad Rauf           RE Koertzen  \n",
       " 1                 MR Benson            SL Shastri  \n",
       " 2                 Aleem Dar        GA Pratapkumar  \n",
       " 3                  SJ Davis             DJ Harper  \n",
       " 4                 BF Bowden           K Hariharan  \n",
       " ...                     ...                   ...  \n",
       " 1090            Nitin Menon             VK Sharma  \n",
       " 1091           AK Chaudhary              R Pandit  \n",
       " 1092  KN Ananthapadmanabhan  MV Saidharshan Kumar  \n",
       " 1093            Nitin Menon             VK Sharma  \n",
       " 1094          J Madanagopal           Nitin Menon  \n",
       " \n",
       " [1095 rows x 20 columns]>,\n",
       " <bound method DataFrame.info of            id   season        city        date   match_type  player_of_match  \\\n",
       " 0      335982  2007/08   Bangalore  2008-04-18       League      BB McCullum   \n",
       " 1      335983  2007/08  Chandigarh  2008-04-19       League       MEK Hussey   \n",
       " 2      335984  2007/08       Delhi  2008-04-19       League      MF Maharoof   \n",
       " 3      335985  2007/08      Mumbai  2008-04-20       League       MV Boucher   \n",
       " 4      335986  2007/08     Kolkata  2008-04-20       League        DJ Hussey   \n",
       " ...       ...      ...         ...         ...          ...              ...   \n",
       " 1090  1426307     2024   Hyderabad  2024-05-19       League  Abhishek Sharma   \n",
       " 1091  1426309     2024   Ahmedabad  2024-05-21  Qualifier 1         MA Starc   \n",
       " 1092  1426310     2024   Ahmedabad  2024-05-22   Eliminator         R Ashwin   \n",
       " 1093  1426311     2024     Chennai  2024-05-24  Qualifier 2    Shahbaz Ahmed   \n",
       " 1094  1426312     2024     Chennai  2024-05-26        Final         MA Starc   \n",
       " \n",
       "                                                   venue  \\\n",
       " 0                                 M Chinnaswamy Stadium   \n",
       " 1            Punjab Cricket Association Stadium, Mohali   \n",
       " 2                                      Feroz Shah Kotla   \n",
       " 3                                      Wankhede Stadium   \n",
       " 4                                          Eden Gardens   \n",
       " ...                                                 ...   \n",
       " 1090  Rajiv Gandhi International Stadium, Uppal, Hyd...   \n",
       " 1091                   Narendra Modi Stadium, Ahmedabad   \n",
       " 1092                   Narendra Modi Stadium, Ahmedabad   \n",
       " 1093           MA Chidambaram Stadium, Chepauk, Chennai   \n",
       " 1094           MA Chidambaram Stadium, Chepauk, Chennai   \n",
       " \n",
       "                             team1                        team2  \\\n",
       " 0     Royal Challengers Bangalore        Kolkata Knight Riders   \n",
       " 1                 Kings XI Punjab          Chennai Super Kings   \n",
       " 2                Delhi Daredevils             Rajasthan Royals   \n",
       " 3                  Mumbai Indians  Royal Challengers Bangalore   \n",
       " 4           Kolkata Knight Riders              Deccan Chargers   \n",
       " ...                           ...                          ...   \n",
       " 1090                 Punjab Kings          Sunrisers Hyderabad   \n",
       " 1091          Sunrisers Hyderabad        Kolkata Knight Riders   \n",
       " 1092  Royal Challengers Bengaluru             Rajasthan Royals   \n",
       " 1093          Sunrisers Hyderabad             Rajasthan Royals   \n",
       " 1094          Sunrisers Hyderabad        Kolkata Knight Riders   \n",
       " \n",
       "                       toss_winner toss_decision                       winner  \\\n",
       " 0     Royal Challengers Bangalore         field        Kolkata Knight Riders   \n",
       " 1             Chennai Super Kings           bat          Chennai Super Kings   \n",
       " 2                Rajasthan Royals           bat             Delhi Daredevils   \n",
       " 3                  Mumbai Indians           bat  Royal Challengers Bangalore   \n",
       " 4                 Deccan Chargers           bat        Kolkata Knight Riders   \n",
       " ...                           ...           ...                          ...   \n",
       " 1090                 Punjab Kings           bat          Sunrisers Hyderabad   \n",
       " 1091          Sunrisers Hyderabad           bat        Kolkata Knight Riders   \n",
       " 1092             Rajasthan Royals         field             Rajasthan Royals   \n",
       " 1093             Rajasthan Royals         field          Sunrisers Hyderabad   \n",
       " 1094          Sunrisers Hyderabad           bat        Kolkata Knight Riders   \n",
       " \n",
       "        result  result_margin  target_runs  target_overs super_over method  \\\n",
       " 0        runs          140.0        223.0          20.0          N    NaN   \n",
       " 1        runs           33.0        241.0          20.0          N    NaN   \n",
       " 2     wickets            9.0        130.0          20.0          N    NaN   \n",
       " 3     wickets            5.0        166.0          20.0          N    NaN   \n",
       " 4     wickets            5.0        111.0          20.0          N    NaN   \n",
       " ...       ...            ...          ...           ...        ...    ...   \n",
       " 1090  wickets            4.0        215.0          20.0          N    NaN   \n",
       " 1091  wickets            8.0        160.0          20.0          N    NaN   \n",
       " 1092  wickets            4.0        173.0          20.0          N    NaN   \n",
       " 1093     runs           36.0        176.0          20.0          N    NaN   \n",
       " 1094  wickets            8.0        114.0          20.0          N    NaN   \n",
       " \n",
       "                     umpire1               umpire2  \n",
       " 0                 Asad Rauf           RE Koertzen  \n",
       " 1                 MR Benson            SL Shastri  \n",
       " 2                 Aleem Dar        GA Pratapkumar  \n",
       " 3                  SJ Davis             DJ Harper  \n",
       " 4                 BF Bowden           K Hariharan  \n",
       " ...                     ...                   ...  \n",
       " 1090            Nitin Menon             VK Sharma  \n",
       " 1091           AK Chaudhary              R Pandit  \n",
       " 1092  KN Ananthapadmanabhan  MV Saidharshan Kumar  \n",
       " 1093            Nitin Menon             VK Sharma  \n",
       " 1094          J Madanagopal           Nitin Menon  \n",
       " \n",
       " [1095 rows x 20 columns]>)"
      ]
     },
     "execution_count": 77,
     "metadata": {},
     "output_type": "execute_result"
    }
   ],
   "source": [
    "import pandas as pd \n",
    "import numpy as np\n",
    "import matplotlib.pyplot as plt\n",
    "import seaborn as sns\n",
    "\n",
    "df=pd.read_csv('D:/SEM4/PMRP/RAW_CODE/PMRP_DAY_13/matches.csv')\n",
    "df.head,df.tail,df.describe,df.info"
   ]
  },
  {
   "cell_type": "markdown",
   "metadata": {},
   "source": [
    "1.Calculate the total number of Matches Played in Each Session "
   ]
  },
  {
   "cell_type": "code",
   "execution_count": 78,
   "metadata": {},
   "outputs": [
    {
     "name": "stdout",
     "output_type": "stream",
     "text": [
      "season\n",
      "2007/08    58\n",
      "2009       57\n",
      "2009/10    60\n",
      "2011       73\n",
      "2012       74\n",
      "2013       76\n",
      "2014       60\n",
      "2015       59\n",
      "2016       60\n",
      "2017       59\n",
      "2018       60\n",
      "2019       60\n",
      "2020/21    60\n",
      "2021       60\n",
      "2022       74\n",
      "2023       74\n",
      "2024       71\n",
      "Name: count, dtype: int64\n"
     ]
    }
   ],
   "source": [
    "matches_per_season = df['season'].value_counts().sort_index()\n",
    "print(matches_per_season)"
   ]
  },
  {
   "cell_type": "markdown",
   "metadata": {},
   "source": [
    "2. Find the Most Successfull team (team with most runs)"
   ]
  },
  {
   "cell_type": "code",
   "execution_count": 79,
   "metadata": {
    "vscode": {
     "languageId": "ruby"
    }
   },
   "outputs": [
    {
     "data": {
      "text/plain": [
       "winner\n",
       "Mumbai Indians                 144\n",
       "Chennai Super Kings            138\n",
       "Kolkata Knight Riders          131\n",
       "Royal Challengers Bangalore    116\n",
       "Rajasthan Royals               112\n",
       "Kings XI Punjab                 88\n",
       "Sunrisers Hyderabad             88\n",
       "Delhi Daredevils                67\n",
       "Delhi Capitals                  48\n",
       "Deccan Chargers                 29\n",
       "Gujarat Titans                  28\n",
       "Lucknow Super Giants            24\n",
       "Punjab Kings                    24\n",
       "Gujarat Lions                   13\n",
       "Pune Warriors                   12\n",
       "Rising Pune Supergiant          10\n",
       "Royal Challengers Bengaluru      7\n",
       "Kochi Tuskers Kerala             6\n",
       "Rising Pune Supergiants          5\n",
       "Name: count, dtype: int64"
      ]
     },
     "execution_count": 79,
     "metadata": {},
     "output_type": "execute_result"
    }
   ],
   "source": [
    "# runs_df = df[df['result'] == 'runs']\n",
    "\n",
    "\n",
    "# most_successful_team = runs_df.groupby('winner')['result_margin'].sum().idxmax()\n",
    "# print(f\"The most successful team (team with most runs) is: {most_successful_team}\")\n",
    "\n",
    "df[\"winner\"].value_counts()"
   ]
  },
  {
   "cell_type": "markdown",
   "metadata": {},
   "source": [
    "3. Find the average margin of victory by wickets and runs "
   ]
  },
  {
   "cell_type": "code",
   "execution_count": 80,
   "metadata": {},
   "outputs": [
    {
     "name": "stdout",
     "output_type": "stream",
     "text": [
      "Average margin of victory by runs: 30.104417670682732\n",
      "Average margin of victory by wickets: 6.192041522491349\n"
     ]
    }
   ],
   "source": [
    "average_runs_margin = df[df['result'] == 'runs']['result_margin'].mean()\n",
    "average_wickets_margin = df[df['result'] == 'wickets']['result_margin'].mean()\n",
    "print(f'Average margin of victory by runs: {average_runs_margin}')\n",
    "print(f'Average margin of victory by wickets: {average_wickets_margin}')\n"
   ]
  },
  {
   "cell_type": "markdown",
   "metadata": {},
   "source": [
    "4. Which player won the most 'Player of the Match awards?"
   ]
  },
  {
   "cell_type": "code",
   "execution_count": 81,
   "metadata": {},
   "outputs": [
    {
     "name": "stdout",
     "output_type": "stream",
     "text": [
      "The player who won the most 'Player of the Match' awards is: AB de Villiers\n"
     ]
    }
   ],
   "source": [
    "most_player_of_match = df['player_of_match'].value_counts().idxmax()\n",
    "print(f\"The player who won the most 'Player of the Match' awards is: {most_player_of_match}\")"
   ]
  },
  {
   "cell_type": "markdown",
   "metadata": {},
   "source": [
    "5.\tFind the number of matches where the toss winner won the match"
   ]
  },
  {
   "cell_type": "code",
   "execution_count": 82,
   "metadata": {},
   "outputs": [
    {
     "name": "stdout",
     "output_type": "stream",
     "text": [
      "The number of matches where the toss winner won the match: 554\n"
     ]
    }
   ],
   "source": [
    "toss_winner_matches = df[df['toss_winner'] == df['winner']].shape[0]\n",
    "print(f\"The number of matches where the toss winner won the match: {toss_winner_matches}\")"
   ]
  },
  {
   "cell_type": "markdown",
   "metadata": {},
   "source": [
    "6.\tCalculate the total number of runs scored in all matches for each team"
   ]
  },
  {
   "cell_type": "code",
   "execution_count": 83,
   "metadata": {},
   "outputs": [
    {
     "name": "stdout",
     "output_type": "stream",
     "text": [
      "team1\n",
      "Chennai Super Kings            39503.0\n",
      "Deccan Chargers                12047.0\n",
      "Delhi Capitals                 15930.0\n",
      "Delhi Daredevils               25492.0\n",
      "Gujarat Lions                   5077.0\n",
      "Gujarat Titans                  7865.0\n",
      "Kings XI Punjab                31391.0\n",
      "Kochi Tuskers Kerala            2014.0\n",
      "Kolkata Knight Riders          40557.0\n",
      "Lucknow Super Giants            7835.0\n",
      "Mumbai Indians                 43728.0\n",
      "Pune Warriors                   6950.0\n",
      "Punjab Kings                    9787.0\n",
      "Rajasthan Royals               36250.0\n",
      "Rising Pune Supergiant          2571.0\n",
      "Rising Pune Supergiants         1993.0\n",
      "Royal Challengers Bangalore    39807.0\n",
      "Royal Challengers Bengaluru     2986.0\n",
      "Sunrisers Hyderabad            30071.0\n",
      "Name: target_runs, dtype: float64\n"
     ]
    }
   ],
   "source": [
    "total_runs_per_team = df.groupby('team1')['target_runs'].sum() + df.groupby('team2')['target_runs'].sum()\n",
    "print(total_runs_per_team)"
   ]
  },
  {
   "cell_type": "markdown",
   "metadata": {},
   "source": [
    "7.\tDetermine the average number of wickets taken by the winning team in each match"
   ]
  },
  {
   "cell_type": "code",
   "execution_count": 84,
   "metadata": {},
   "outputs": [
    {
     "name": "stdout",
     "output_type": "stream",
     "text": [
      "The average number of wickets taken by the winning team in each match is: 6.192041522491349\n"
     ]
    }
   ],
   "source": [
    "average_wickets_taken = df[df['result'] == 'wickets']['result_margin'].mean()\n",
    "print(f'The average number of wickets taken by the winning team in each match is: {average_wickets_taken}')"
   ]
  },
  {
   "cell_type": "markdown",
   "metadata": {},
   "source": [
    "8.\tHow many matches were decided by a Super Over?"
   ]
  },
  {
   "cell_type": "code",
   "execution_count": 85,
   "metadata": {},
   "outputs": [
    {
     "name": "stdout",
     "output_type": "stream",
     "text": [
      "The number of matches decided by a Super Over: 14\n"
     ]
    }
   ],
   "source": [
    "super_over_matches = df[df['super_over'] == 'Y'].shape[0]\n",
    "print(f\"The number of matches decided by a Super Over: {super_over_matches}\")"
   ]
  },
  {
   "cell_type": "markdown",
   "metadata": {},
   "source": [
    "9.\tFind the distribution of match results (runs vs wickets)"
   ]
  },
  {
   "cell_type": "code",
   "execution_count": 86,
   "metadata": {},
   "outputs": [
    {
     "name": "stdout",
     "output_type": "stream",
     "text": [
      "result\n",
      "wickets      578\n",
      "runs         498\n",
      "tie           14\n",
      "no result      5\n",
      "Name: count, dtype: int64\n"
     ]
    },
    {
     "data": {
      "image/png": "[encoded data removed]",
      "text/plain": [
       "<Figure size 640x480 with 1 Axes>"
      ]
     },
     "metadata": {},
     "output_type": "display_data"
    }
   ],
   "source": [
    "result_distribution = df['result'].value_counts()\n",
    "print(result_distribution)\n",
    "\n",
    "# Plotting the distribution\n",
    "result_distribution.plot(kind='bar', color=['blue', 'orange'])\n",
    "plt.title('Distribution of Match Results (Runs vs Wickets)')\n",
    "plt.xlabel('Result Type')\n",
    "plt.ylabel('Number of Matches')\n",
    "plt.show()\n"
   ]
  },
  {
   "cell_type": "markdown",
   "metadata": {},
   "source": [
    "10.\tFind the top 5 venues with the most matches played"
   ]
  },
  {
   "cell_type": "code",
   "execution_count": 87,
   "metadata": {},
   "outputs": [
    {
     "name": "stdout",
     "output_type": "stream",
     "text": [
      "venue\n",
      "Eden Gardens                                 77\n",
      "Wankhede Stadium                             73\n",
      "M Chinnaswamy Stadium                        65\n",
      "Feroz Shah Kotla                             60\n",
      "Rajiv Gandhi International Stadium, Uppal    49\n",
      "Name: count, dtype: int64\n"
     ]
    }
   ],
   "source": [
    "top_venues = df['venue'].value_counts().head(5)\n",
    "print(top_venues)\n",
    "\n",
    "# # Plotting the top 5 venues\n",
    "# top_venues.plot(kind='bar', color='green')\n",
    "# plt.title('Top 5 Venues with the Most Matches Played')\n",
    "# plt.xlabel('Venue')\n",
    "# plt.ylabel('Number of Matches')\n",
    "# plt.show()"
   ]
  },
  {
   "cell_type": "markdown",
   "metadata": {},
   "source": [
    "11.\tFind the match with the highest margin of victory (by wickets or runs)"
   ]
  },
  {
   "cell_type": "code",
   "execution_count": 88,
   "metadata": {},
   "outputs": [
    {
     "data": {
      "text/html": [
       "<div>\n",
       "<style scoped>\n",
       "    .dataframe tbody tr th:only-of-type {\n",
       "        vertical-align: middle;\n",
       "    }\n",
       "\n",
       "    .dataframe tbody tr th {\n",
       "        vertical-align: top;\n",
       "    }\n",
       "\n",
       "    .dataframe thead th {\n",
       "        text-align: right;\n",
       "    }\n",
       "</style>\n",
       "<table border=\"1\" class=\"dataframe\">\n",
       "  <thead>\n",
       "    <tr style=\"text-align: right;\">\n",
       "      <th></th>\n",
       "      <th>id</th>\n",
       "      <th>season</th>\n",
       "      <th>city</th>\n",
       "      <th>date</th>\n",
       "      <th>match_type</th>\n",
       "      <th>player_of_match</th>\n",
       "      <th>venue</th>\n",
       "      <th>team1</th>\n",
       "      <th>team2</th>\n",
       "      <th>toss_winner</th>\n",
       "      <th>toss_decision</th>\n",
       "      <th>winner</th>\n",
       "      <th>result</th>\n",
       "      <th>result_margin</th>\n",
       "      <th>target_runs</th>\n",
       "      <th>target_overs</th>\n",
       "      <th>super_over</th>\n",
       "      <th>method</th>\n",
       "      <th>umpire1</th>\n",
       "      <th>umpire2</th>\n",
       "    </tr>\n",
       "  </thead>\n",
       "  <tbody>\n",
       "    <tr>\n",
       "      <th>620</th>\n",
       "      <td>1082635</td>\n",
       "      <td>2017</td>\n",
       "      <td>Delhi</td>\n",
       "      <td>2017-05-06</td>\n",
       "      <td>League</td>\n",
       "      <td>LMP Simmons</td>\n",
       "      <td>Feroz Shah Kotla</td>\n",
       "      <td>Delhi Daredevils</td>\n",
       "      <td>Mumbai Indians</td>\n",
       "      <td>Delhi Daredevils</td>\n",
       "      <td>field</td>\n",
       "      <td>Mumbai Indians</td>\n",
       "      <td>runs</td>\n",
       "      <td>146.0</td>\n",
       "      <td>213.0</td>\n",
       "      <td>20.0</td>\n",
       "      <td>N</td>\n",
       "      <td>NaN</td>\n",
       "      <td>Nitin Menon</td>\n",
       "      <td>CK Nandan</td>\n",
       "    </tr>\n",
       "  </tbody>\n",
       "</table>\n",
       "</div>"
      ],
      "text/plain": [
       "          id season   city        date match_type player_of_match  \\\n",
       "620  1082635   2017  Delhi  2017-05-06     League     LMP Simmons   \n",
       "\n",
       "                venue             team1           team2       toss_winner  \\\n",
       "620  Feroz Shah Kotla  Delhi Daredevils  Mumbai Indians  Delhi Daredevils   \n",
       "\n",
       "    toss_decision          winner result  result_margin  target_runs  \\\n",
       "620         field  Mumbai Indians   runs          146.0        213.0   \n",
       "\n",
       "     target_overs super_over method      umpire1    umpire2  \n",
       "620          20.0          N    NaN  Nitin Menon  CK Nandan  "
      ]
     },
     "execution_count": 88,
     "metadata": {},
     "output_type": "execute_result"
    }
   ],
   "source": [
    "df[df['result_margin']==df['result_margin'].max()]\n"
   ]
  },
  {
   "cell_type": "code",
   "execution_count": 89,
   "metadata": {},
   "outputs": [
    {
     "data": {
      "text/plain": [
       "(id                          1082635\n",
       " season                         2017\n",
       " city                          Delhi\n",
       " date                     2017-05-06\n",
       " match_type                   League\n",
       " player_of_match         LMP Simmons\n",
       " venue              Feroz Shah Kotla\n",
       " team1              Delhi Daredevils\n",
       " team2                Mumbai Indians\n",
       " toss_winner        Delhi Daredevils\n",
       " toss_decision                 field\n",
       " winner               Mumbai Indians\n",
       " result                         runs\n",
       " result_margin                 146.0\n",
       " target_runs                   213.0\n",
       " target_overs                   20.0\n",
       " super_over                        N\n",
       " method                          NaN\n",
       " umpire1                 Nitin Menon\n",
       " umpire2                   CK Nandan\n",
       " Name: 620, dtype: object,\n",
       " id                                     335994\n",
       " season                                2007/08\n",
       " city                                   Mumbai\n",
       " date                               2008-04-27\n",
       " match_type                             League\n",
       " player_of_match                  AC Gilchrist\n",
       " venue              Dr DY Patil Sports Academy\n",
       " team1                          Mumbai Indians\n",
       " team2                         Deccan Chargers\n",
       " toss_winner                   Deccan Chargers\n",
       " toss_decision                           field\n",
       " winner                        Deccan Chargers\n",
       " result                                wickets\n",
       " result_margin                            10.0\n",
       " target_runs                             155.0\n",
       " target_overs                             20.0\n",
       " super_over                                  N\n",
       " method                                    NaN\n",
       " umpire1                             Asad Rauf\n",
       " umpire2                            SL Shastri\n",
       " Name: 12, dtype: object)"
      ]
     },
     "execution_count": 89,
     "metadata": {},
     "output_type": "execute_result"
    }
   ],
   "source": [
    "# Find the match with the highest margin of victory (by wickets or runs) \n",
    "df_wickets=df[df['result']=='wickets']\n",
    "df_runs=df[df['result']=='runs']\n",
    "\n",
    "max_margin_wicket=df_wickets.loc[df_wickets['result_margin'].idxmax()]\n",
    "\n",
    "max_margin_run=df_runs.loc[df_runs['result_margin'].idxmax()]\n",
    "\n",
    "max_margin_run,max_margin_wicket\n",
    "\n"
   ]
  },
  {
   "cell_type": "markdown",
   "metadata": {},
   "source": [
    "\n",
    "12.\tCalculate the win percentage for each team\n"
   ]
  },
  {
   "cell_type": "code",
   "execution_count": 90,
   "metadata": {},
   "outputs": [
    {
     "name": "stdout",
     "output_type": "stream",
     "text": [
      "Chennai Super Kings            57.983193\n",
      "Deccan Chargers                38.666667\n",
      "Delhi Capitals                 52.747253\n",
      "Delhi Daredevils               41.614907\n",
      "Gujarat Lions                  43.333333\n",
      "Gujarat Titans                 62.222222\n",
      "Kings XI Punjab                46.315789\n",
      "Kochi Tuskers Kerala           42.857143\n",
      "Kolkata Knight Riders          52.191235\n",
      "Lucknow Super Giants           54.545455\n",
      "Mumbai Indians                 55.172414\n",
      "Pune Warriors                  26.086957\n",
      "Punjab Kings                   42.857143\n",
      "Rajasthan Royals               50.678733\n",
      "Rising Pune Supergiant         62.500000\n",
      "Rising Pune Supergiants        35.714286\n",
      "Royal Challengers Bangalore    48.333333\n",
      "Royal Challengers Bengaluru    46.666667\n",
      "Sunrisers Hyderabad            48.351648\n",
      "Name: count, dtype: float64\n"
     ]
    }
   ],
   "source": [
    "matches_played = df['team1'].value_counts() + df['team2'].value_counts()\n",
    "\n",
    "matches_won = df['winner'].value_counts()\n",
    "win_percentage = (matches_won / matches_played) * 100\n",
    "\n",
    "print(win_percentage)"
   ]
  },
  {
   "cell_type": "markdown",
   "metadata": {},
   "source": [
    "13.\tFind the average number of overs played in all matches"
   ]
  },
  {
   "cell_type": "code",
   "execution_count": 91,
   "metadata": {},
   "outputs": [
    {
     "name": "stdout",
     "output_type": "stream",
     "text": [
      "The average number of overs played in all matches is: 19.75934065934066\n"
     ]
    }
   ],
   "source": [
    "average_overs_played = df['target_overs'].mean()\n",
    "\n",
    "print(f'The average number of overs played in all matches is: {average_overs_played}')"
   ]
  },
  {
   "cell_type": "markdown",
   "metadata": {},
   "source": [
    "14.\tFind the most common match outcome (runs, wickets, or no result)\n"
   ]
  },
  {
   "cell_type": "code",
   "execution_count": 92,
   "metadata": {},
   "outputs": [
    {
     "name": "stdout",
     "output_type": "stream",
     "text": [
      "The most common match outcome is: wickets\n"
     ]
    }
   ],
   "source": [
    "most_common_outcome = result_distribution.idxmax()\n",
    "print(f'The most common match outcome is: {most_common_outcome}')"
   ]
  },
  {
   "cell_type": "markdown",
   "metadata": {},
   "source": [
    "15.\tFind the total number of matches played at each venue by year\n"
   ]
  },
  {
   "cell_type": "code",
   "execution_count": 93,
   "metadata": {},
   "outputs": [
    {
     "name": "stdout",
     "output_type": "stream",
     "text": [
      "season   venue                                                             \n",
      "2007/08  Dr DY Patil Sports Academy                                            4\n",
      "         Eden Gardens                                                          7\n",
      "         Feroz Shah Kotla                                                      6\n",
      "         M Chinnaswamy Stadium                                                 7\n",
      "         MA Chidambaram Stadium, Chepauk                                       7\n",
      "                                                                              ..\n",
      "2024     Maharaja Yadavindra Singh International Cricket Stadium, Mullanpur    5\n",
      "         Narendra Modi Stadium, Ahmedabad                                      8\n",
      "         Rajiv Gandhi International Stadium, Uppal, Hyderabad                  6\n",
      "         Sawai Mansingh Stadium, Jaipur                                        5\n",
      "         Wankhede Stadium, Mumbai                                              7\n",
      "Length: 175, dtype: int64\n"
     ]
    }
   ],
   "source": [
    "matches_per_venue_year = df.groupby(['season','venue']).size()\n",
    "print(matches_per_venue_year)"
   ]
  },
  {
   "cell_type": "markdown",
   "metadata": {},
   "source": [
    "16.\tAnalyze the win margin distribution by year"
   ]
  },
  {
   "cell_type": "code",
   "execution_count": 94,
   "metadata": {},
   "outputs": [
    {
     "name": "stdout",
     "output_type": "stream",
     "text": [
      "                   count       mean        std  min    25%   50%    75%    max\n",
      "season  result                                                                \n",
      "2007/08 runs        24.0  29.375000  34.291351  1.0   8.25  16.0  35.00  140.0\n",
      "        wickets     34.0   6.500000   2.078024  3.0   5.00   7.0   8.00   10.0\n",
      "2009    runs        27.0  28.296296  28.894789  1.0  10.00  16.0  32.50   92.0\n",
      "        tie          0.0        NaN        NaN  NaN    NaN   NaN    NaN    NaN\n",
      "        wickets     29.0   6.206897   1.820112  2.0   6.00   6.0   7.00   10.0\n",
      "2009/10 runs        31.0  31.483871  20.990269  2.0  15.50  31.0  39.00   98.0\n",
      "        tie          0.0        NaN        NaN  NaN    NaN   NaN    NaN    NaN\n",
      "        wickets     28.0   6.785714   1.571909  4.0   5.75   7.0   8.00   10.0\n",
      "2011    no result    0.0        NaN        NaN  NaN    NaN   NaN    NaN    NaN\n",
      "        runs        33.0  33.272727  26.081929  2.0  17.00  25.0  43.00  111.0\n",
      "        wickets     39.0   6.794872   1.794428  3.0   6.00   7.0   8.00   10.0\n",
      "2012    runs        34.0  28.235294  19.645431  1.0  14.25  26.0  37.75   86.0\n",
      "        wickets     40.0   6.025000   1.716996  2.0   5.00   5.5   7.00   10.0\n",
      "2013    runs        37.0  33.540541  28.657551  2.0  14.00  24.0  48.00  130.0\n",
      "        tie          0.0        NaN        NaN  NaN    NaN   NaN    NaN    NaN\n",
      "        wickets     37.0   6.135135   1.669367  3.0   5.00   6.0   7.00   10.0\n",
      "2014    runs        22.0  29.272727  22.416367  2.0  15.25  24.5  33.50   93.0\n",
      "        tie          0.0        NaN        NaN  NaN    NaN   NaN    NaN    NaN\n",
      "        wickets     37.0   6.081081   1.516179  3.0   5.00   6.0   7.00    9.0\n",
      "2015    no result    0.0        NaN        NaN  NaN    NaN   NaN    NaN    NaN\n",
      "        runs        32.0  26.562500  28.598373  1.0   8.75  20.0  29.00  138.0\n",
      "        tie          0.0        NaN        NaN  NaN    NaN   NaN    NaN    NaN\n",
      "        wickets     24.0   6.166667   2.219805  1.0   5.00   6.0   7.25   10.0\n",
      "2016    runs        21.0  32.190476  36.347791  1.0   9.00  22.0  34.00  144.0\n",
      "        wickets     39.0   6.256410   1.772865  2.0   5.00   6.0   7.00   10.0\n",
      "2017    runs        26.0  30.307692  33.638988  1.0  10.50  18.0  33.00  146.0\n",
      "        tie          0.0        NaN        NaN  NaN    NaN   NaN    NaN    NaN\n",
      "        wickets     32.0   6.375000   1.896516  2.0   5.00   6.5   7.25   10.0\n",
      "2018    runs        28.0  24.107143  23.850366  3.0  10.75  14.0  31.00  102.0\n",
      "        wickets     32.0   5.812500   2.206113  1.0   5.00   6.0   7.00   10.0\n",
      "2019    no result    0.0        NaN        NaN  NaN    NaN   NaN    NaN    NaN\n",
      "        runs        22.0  30.227273  27.194068  1.0  12.50  25.0  39.75  118.0\n",
      "        tie          0.0        NaN        NaN  NaN    NaN   NaN    NaN    NaN\n",
      "        wickets     35.0   5.771429   1.646488  2.0   5.00   6.0   7.00    9.0\n",
      "2020/21 runs        27.0  39.370370  26.716673  2.0  15.50  37.0  58.00   97.0\n",
      "        tie          0.0        NaN        NaN  NaN    NaN   NaN    NaN    NaN\n",
      "        wickets     29.0   6.965517   1.762360  4.0   5.00   7.0   8.00   10.0\n",
      "2021    runs        22.0  26.454545  24.039110  1.0   6.00  19.0  41.00   86.0\n",
      "        tie          0.0        NaN        NaN  NaN    NaN   NaN    NaN    NaN\n",
      "        wickets     37.0   5.918919   2.019053  2.0   4.00   6.0   7.00   10.0\n",
      "2022    runs        37.0  27.945946  23.085525  2.0  12.00  18.0  44.00   91.0\n",
      "        wickets     37.0   6.000000   1.615893  3.0   5.00   6.0   7.00    9.0\n",
      "2023    no result    0.0        NaN        NaN  NaN    NaN   NaN    NaN    NaN\n",
      "        runs        40.0  30.400000  27.554887  1.0   7.75  22.0  51.25  112.0\n",
      "        wickets     33.0   5.727273   1.908414  1.0   5.00   6.0   7.00    9.0\n",
      "2024    runs        35.0  30.142857  25.994505  1.0  15.00  24.0  35.00  106.0\n",
      "        wickets     36.0   5.944444   1.999206  2.0   4.00   6.0   7.00   10.0\n"
     ]
    },
    {
     "data": {
      "image/png": "[encoded data removed]",
      "text/plain": [
       "<Figure size 1400x800 with 1 Axes>"
      ]
     },
     "metadata": {},
     "output_type": "display_data"
    }
   ],
   "source": [
    "# Grouping the data by season and result type\n",
    "win_margin_by_year = df.groupby(['season', 'result'])['result_margin'].describe()\n",
    "print(win_margin_by_year)\n",
    "# Plotting the win margin distribution by year\n",
    "plt.figure(figsize=(14, 8))\n",
    "sns.boxplot(x='season', y='result_margin', hue='result', data=df)\n",
    "plt.title('Win Margin Distribution by Year')\n",
    "plt.xlabel('Season')\n",
    "plt.ylabel('Win Margin')\n",
    "plt.xticks(rotation=45)\n",
    "plt.legend(title='Result Type')\n",
    "plt.show()"
   ]
  },
  {
   "cell_type": "markdown",
   "metadata": {},
   "source": [
    "17.\tCalculate the total number of 'no result' matches and their impact on the tournament"
   ]
  },
  {
   "cell_type": "code",
   "execution_count": 95,
   "metadata": {
    "vscode": {
     "languageId": "ruby"
    }
   },
   "outputs": [
    {
     "name": "stdout",
     "output_type": "stream",
     "text": [
      "The total number of 'no result' matches: 5\n",
      "Distribution of 'no result' matches by season:\n",
      "season\n",
      "2011    1\n",
      "2015    2\n",
      "2019    1\n",
      "2023    1\n",
      "Name: count, dtype: int64\n",
      "Distribution of 'no result' matches by team:\n",
      "Chennai Super Kings            NaN\n",
      "Delhi Daredevils               2.0\n",
      "Lucknow Super Giants           NaN\n",
      "Pune Warriors                  NaN\n",
      "Rajasthan Royals               NaN\n",
      "Royal Challengers Bangalore    NaN\n",
      "Name: count, dtype: float64\n"
     ]
    }
   ],
   "source": [
    "# Calculate the total number of 'no result' matches\n",
    "no_result_matches = df[df['result'] == 'no result'].shape[0]\n",
    "print(f\"The total number of 'no result' matches: {no_result_matches}\")\n",
    "\n",
    "# Analyze the distribution of 'no result' matches by season\n",
    "no_result_by_season = df[df['result'] == 'no result']['season'].value_counts().sort_index()\n",
    "print(\"Distribution of 'no result' matches by season:\")\n",
    "print(no_result_by_season)\n",
    "\n",
    "# Analyze the distribution of 'no result' matches by team\n",
    "no_result_by_team = df[df['result'] == 'no result']['team1'].value_counts() + df[df['result'] == 'no result']['team2'].value_counts()\n",
    "print(\"Distribution of 'no result' matches by team:\")\n",
    "print(no_result_by_team)"
   ]
  },
  {
   "cell_type": "markdown",
   "metadata": {},
   "source": [
    " \n",
    "18.\tHow many matches were won by teams batting first vs. batting second?\n"
   ]
  },
  {
   "cell_type": "code",
   "execution_count": 96,
   "metadata": {
    "vscode": {
     "languageId": "ruby"
    }
   },
   "outputs": [
    {
     "name": "stdout",
     "output_type": "stream",
     "text": [
      "Matches won by teams batting first: 504\n",
      "Matches won by teams batting second: 591\n"
     ]
    }
   ],
   "source": [
    "# Matches won by teams batting first\n",
    "batting_first_wins = df[(df['toss_decision'] == 'bat') & (df['toss_winner'] == df['winner'])].shape[0] + \\\n",
    "                     df[(df['toss_decision'] == 'field') & (df['toss_winner'] != df['winner'])].shape[0]\n",
    "\n",
    "# Matches won by teams batting second\n",
    "batting_second_wins = df[(df['toss_decision'] == 'field') & (df['toss_winner'] == df['winner'])].shape[0] + \\\n",
    "                      df[(df['toss_decision'] == 'bat') & (df['toss_winner'] != df['winner'])].shape[0]\n",
    "\n",
    "print(f\"Matches won by teams batting first: {batting_first_wins}\")\n",
    "print(f\"Matches won by teams batting second: {batting_second_wins}\")"
   ]
  },
  {
   "cell_type": "markdown",
   "metadata": {},
   "source": [
    "19.\tFind out the average number of runs scored by the winning team\n"
   ]
  },
  {
   "cell_type": "code",
   "execution_count": 97,
   "metadata": {},
   "outputs": [
    {
     "name": "stdout",
     "output_type": "stream",
     "text": [
      "The average number of runs scored by the winning team is: 179.69678714859438\n"
     ]
    }
   ],
   "source": [
    "average_runs_scored_by_winning_team = df[df['result'] == 'runs']['target_runs'].mean()\n",
    "print(f'The average number of runs scored by the winning team is: {average_runs_scored_by_winning_team}')"
   ]
  },
  {
   "cell_type": "markdown",
   "metadata": {},
   "source": [
    " \n",
    "20. Identify the most unsuccessful team (team with lowest wins)"
   ]
  },
  {
   "cell_type": "code",
   "execution_count": 98,
   "metadata": {},
   "outputs": [
    {
     "name": "stdout",
     "output_type": "stream",
     "text": [
      "The most unsuccessful team (team with the lowest wins) is: Rising Pune Supergiants\n"
     ]
    }
   ],
   "source": [
    "most_unsuccessful_team = matches_won.idxmin()\n",
    "print(f\"The most unsuccessful team (team with the lowest wins) is: {most_unsuccessful_team}\")"
   ]
  },
  {
   "cell_type": "markdown",
   "metadata": {},
   "source": [
    "<h1>ASSIGNMENT QUESTIONS <h1>"
   ]
  },
  {
   "cell_type": "markdown",
   "metadata": {},
   "source": [
    "Explore following for given dataset and also perform EDA.\n",
    "1. Frequency Distribution of Wins by Wickets\n",
    "2. Relative Frequency Distribution\n",
    "3. Cumulative Relative Frequency Graph\n",
    "4. Probability of Winning by 6 Wickets or Less\n",
    "5. Normal Distribution of Wins by Wickets\n",
    "6. Mean, Standard Deviation, and Percentile Calculation\n",
    "7. Find out outliers for the selective columns for lower range outliers will be lower than mu - 2sigma, similarly for upper range outliers will be greater than mu+2sigma."
   ]
  },
  {
   "cell_type": "markdown",
   "metadata": {},
   "source": [
    "1. Frequency Distribution of Wins by Wickets\n"
   ]
  },
  {
   "cell_type": "code",
   "execution_count": 107,
   "metadata": {},
   "outputs": [
    {
     "name": "stdout",
     "output_type": "stream",
     "text": [
      "result_margin\n",
      "1.0       4\n",
      "2.0      10\n",
      "3.0      31\n",
      "4.0      59\n",
      "5.0      97\n",
      "6.0     120\n",
      "7.0     115\n",
      "8.0      78\n",
      "9.0      48\n",
      "10.0     16\n",
      "Name: count, dtype: int64\n"
     ]
    },
    {
     "data": {
      "image/png": "[encoded data removed]",
      "text/plain": [
       "<Figure size 640x480 with 1 Axes>"
      ]
     },
     "metadata": {},
     "output_type": "display_data"
    }
   ],
   "source": [
    "# Frequency distribution of wins by wickets\n",
    "wins_by_wickets = df_wickets['result_margin'].value_counts().sort_index()\n",
    "print(wins_by_wickets)\n",
    "\n",
    "# Plotting the frequency distribution\n",
    "wins_by_wickets.plot(kind='bar', color='blue')\n",
    "plt.title('Frequency Distribution of Wins by Wickets')\n",
    "plt.xlabel('Number of Wickets')\n",
    "plt.ylabel('Frequency')\n",
    "plt.show()"
   ]
  },
  {
   "cell_type": "markdown",
   "metadata": {},
   "source": [
    "2. Relative Frequency Distribution\n"
   ]
  },
  {
   "cell_type": "code",
   "execution_count": 109,
   "metadata": {},
   "outputs": [
    {
     "name": "stdout",
     "output_type": "stream",
     "text": [
      "result_margin\n",
      "1.0     0.006920\n",
      "2.0     0.017301\n",
      "3.0     0.053633\n",
      "4.0     0.102076\n",
      "5.0     0.167820\n",
      "6.0     0.207612\n",
      "7.0     0.198962\n",
      "8.0     0.134948\n",
      "9.0     0.083045\n",
      "10.0    0.027682\n",
      "Name: count, dtype: float64\n"
     ]
    },
    {
     "data": {
      "image/png": "[encoded data removed]",
      "text/plain": [
       "<Figure size 640x480 with 1 Axes>"
      ]
     },
     "metadata": {},
     "output_type": "display_data"
    }
   ],
   "source": [
    "relative_frequency_wins_by_wickets = wins_by_wickets / wins_by_wickets.sum()\n",
    "print(relative_frequency_wins_by_wickets)\n",
    "\n",
    "# Plotting the relative frequency distribution\n",
    "relative_frequency_wins_by_wickets.plot(kind='bar', color='orange')\n",
    "plt.title('Relative Frequency Distribution of Wins by Wickets')\n",
    "plt.xlabel('Number of Wickets')\n",
    "plt.ylabel('Relative Frequency')\n",
    "plt.show()"
   ]
  },
  {
   "cell_type": "markdown",
   "metadata": {},
   "source": [
    "3. Cumulative Relative Frequency Graph\n"
   ]
  },
  {
   "cell_type": "code",
   "execution_count": 110,
   "metadata": {},
   "outputs": [
    {
     "name": "stdout",
     "output_type": "stream",
     "text": [
      "result_margin\n",
      "1.0     0.006920\n",
      "2.0     0.024221\n",
      "3.0     0.077855\n",
      "4.0     0.179931\n",
      "5.0     0.347751\n",
      "6.0     0.555363\n",
      "7.0     0.754325\n",
      "8.0     0.889273\n",
      "9.0     0.972318\n",
      "10.0    1.000000\n",
      "Name: count, dtype: float64\n"
     ]
    },
    {
     "data": {
      "image/png": "[encoded data removed]",
      "text/plain": [
       "<Figure size 640x480 with 1 Axes>"
      ]
     },
     "metadata": {},
     "output_type": "display_data"
    }
   ],
   "source": [
    "# Calculate the cumulative relative frequency\n",
    "cumulative_relative_frequency = relative_frequency_wins_by_wickets.cumsum()\n",
    "print(cumulative_relative_frequency)\n",
    "\n",
    "# Plotting the cumulative relative frequency graph\n",
    "cumulative_relative_frequency.plot(kind='line', marker='o', color='purple')\n",
    "plt.title('Cumulative Relative Frequency of Wins by Wickets')\n",
    "plt.xlabel('Number of Wickets')\n",
    "plt.ylabel('Cumulative Relative Frequency')\n",
    "plt.grid(True)\n",
    "plt.show()"
   ]
  },
  {
   "cell_type": "markdown",
   "metadata": {},
   "source": [
    "4. Probability of Winning by 6 Wickets or Less\n"
   ]
  },
  {
   "cell_type": "code",
   "execution_count": 111,
   "metadata": {},
   "outputs": [
    {
     "name": "stdout",
     "output_type": "stream",
     "text": [
      "The probability of winning by 6 wickets or less is: 0.5553633217993079\n"
     ]
    }
   ],
   "source": [
    "# Calculate the total number of wins by wickets\n",
    "total_wins_by_wickets = wins_by_wickets.sum()\n",
    "\n",
    "# Calculate the number of wins by 6 wickets or less\n",
    "wins_by_6_or_less = wins_by_wickets[wins_by_wickets.index <= 6].sum()\n",
    "\n",
    "# Calculate the probability\n",
    "probability_wins_by_6_or_less = wins_by_6_or_less / total_wins_by_wickets\n",
    "print(f'The probability of winning by 6 wickets or less is: {probability_wins_by_6_or_less}')"
   ]
  },
  {
   "cell_type": "markdown",
   "metadata": {},
   "source": [
    "5. Normal Distribution of Wins by Wickets\n"
   ]
  },
  {
   "cell_type": "code",
   "execution_count": 112,
   "metadata": {},
   "outputs": [
    {
     "data": {
      "image/png": "[encoded data removed]",
      "text/plain": [
       "<Figure size 1000x600 with 1 Axes>"
      ]
     },
     "metadata": {},
     "output_type": "display_data"
    }
   ],
   "source": [
    "# Plotting the normal distribution of wins by wickets\n",
    "plt.figure(figsize=(10, 6))\n",
    "sns.histplot(df_wickets['result_margin'], kde=True, bins=10, color='blue')\n",
    "plt.title('Normal Distribution of Wins by Wickets')\n",
    "plt.xlabel('Number of Wickets')\n",
    "plt.ylabel('Frequency')\n",
    "plt.grid(True)\n",
    "plt.show()"
   ]
  },
  {
   "cell_type": "markdown",
   "metadata": {},
   "source": [
    "6. Mean, Standard Deviation, and Percentile Calculation\n"
   ]
  },
  {
   "cell_type": "code",
   "execution_count": 116,
   "metadata": {},
   "outputs": [
    {
     "name": "stdout",
     "output_type": "stream",
     "text": [
      "                 id  result_margin  target_runs  target_overs\n",
      "count  1.095000e+03    1076.000000  1092.000000   1092.000000\n",
      "mean   9.048283e+05      17.259294   165.684066     19.759341\n",
      "std    3.677402e+05      21.787444    33.427048      1.581108\n",
      "min    3.359820e+05       1.000000    43.000000      5.000000\n",
      "25%    5.483315e+05       6.000000   146.000000     20.000000\n",
      "50%    9.809610e+05       8.000000   166.000000     20.000000\n",
      "75%    1.254062e+06      20.000000   187.000000     20.000000\n",
      "max    1.426312e+06     146.000000   288.000000     20.000000\n"
     ]
    }
   ],
   "source": [
    "print(df.describe())"
   ]
  },
  {
   "cell_type": "markdown",
   "metadata": {},
   "source": [
    "7. Find out outliers for the selective columns for lower range outliers will be lower than mu - 2sigma, similarly for upper range outliers will be greater than mu+2sigma."
   ]
  },
  {
   "cell_type": "code",
   "execution_count": 118,
   "metadata": {},
   "outputs": [
    {
     "name": "stdout",
     "output_type": "stream",
     "text": [
      "           id   season           city        date  match_type player_of_match  \\\n",
      "0      335982  2007/08      Bangalore  2008-04-18      League     BB McCullum   \n",
      "9      335991  2007/08     Chandigarh  2008-04-25      League   KC Sangakkara   \n",
      "39     336023  2007/08         Jaipur  2008-05-17      League        GC Smith   \n",
      "55     336038  2007/08         Mumbai  2008-05-30  Semi Final       SR Watson   \n",
      "59     392182     2009      Cape Town  2009-04-18      League        R Dravid   \n",
      "...       ...      ...            ...         ...         ...             ...   \n",
      "1030  1422125     2024        Chennai  2024-03-26      League          S Dube   \n",
      "1039  1422134     2024  Visakhapatnam  2024-04-03      League       SP Narine   \n",
      "1058  1426273     2024          Delhi  2024-04-20      League         TM Head   \n",
      "1069  1426284     2024        Chennai  2024-04-28      League      RD Gaikwad   \n",
      "1077  1426292     2024        Lucknow  2024-05-05      League       SP Narine   \n",
      "\n",
      "                                                  venue  \\\n",
      "0                                 M Chinnaswamy Stadium   \n",
      "9            Punjab Cricket Association Stadium, Mohali   \n",
      "39                               Sawai Mansingh Stadium   \n",
      "55                                     Wankhede Stadium   \n",
      "59                                             Newlands   \n",
      "...                                                 ...   \n",
      "1030           MA Chidambaram Stadium, Chepauk, Chennai   \n",
      "1039  Dr. Y.S. Rajasekhara Reddy ACA-VDCA Cricket St...   \n",
      "1058                        Arun Jaitley Stadium, Delhi   \n",
      "1069           MA Chidambaram Stadium, Chepauk, Chennai   \n",
      "1077  Bharat Ratna Shri Atal Bihari Vajpayee Ekana C...   \n",
      "\n",
      "                            team1                        team2  \\\n",
      "0     Royal Challengers Bangalore        Kolkata Knight Riders   \n",
      "9                 Kings XI Punjab               Mumbai Indians   \n",
      "39               Rajasthan Royals  Royal Challengers Bangalore   \n",
      "55               Delhi Daredevils             Rajasthan Royals   \n",
      "59    Royal Challengers Bangalore             Rajasthan Royals   \n",
      "...                           ...                          ...   \n",
      "1030          Chennai Super Kings               Gujarat Titans   \n",
      "1039        Kolkata Knight Riders               Delhi Capitals   \n",
      "1058          Sunrisers Hyderabad               Delhi Capitals   \n",
      "1069          Chennai Super Kings          Sunrisers Hyderabad   \n",
      "1077        Kolkata Knight Riders         Lucknow Super Giants   \n",
      "\n",
      "                      toss_winner toss_decision                       winner  \\\n",
      "0     Royal Challengers Bangalore         field        Kolkata Knight Riders   \n",
      "9                  Mumbai Indians         field              Kings XI Punjab   \n",
      "39    Royal Challengers Bangalore         field             Rajasthan Royals   \n",
      "55               Delhi Daredevils         field             Rajasthan Royals   \n",
      "59    Royal Challengers Bangalore           bat  Royal Challengers Bangalore   \n",
      "...                           ...           ...                          ...   \n",
      "1030               Gujarat Titans         field          Chennai Super Kings   \n",
      "1039        Kolkata Knight Riders           bat        Kolkata Knight Riders   \n",
      "1058               Delhi Capitals         field          Sunrisers Hyderabad   \n",
      "1069          Sunrisers Hyderabad         field          Chennai Super Kings   \n",
      "1077         Lucknow Super Giants         field        Kolkata Knight Riders   \n",
      "\n",
      "     result  result_margin  target_runs  target_overs super_over method  \\\n",
      "0      runs          140.0        223.0          20.0          N    NaN   \n",
      "9      runs           66.0        183.0          20.0          N    NaN   \n",
      "39     runs           65.0        198.0          20.0          N    NaN   \n",
      "55     runs          105.0        193.0          20.0          N    NaN   \n",
      "59     runs           75.0        134.0          20.0          N    NaN   \n",
      "...     ...            ...          ...           ...        ...    ...   \n",
      "1030   runs           63.0        207.0          20.0          N    NaN   \n",
      "1039   runs          106.0        273.0          20.0          N    NaN   \n",
      "1058   runs           67.0        267.0          20.0          N    NaN   \n",
      "1069   runs           78.0        213.0          20.0          N    NaN   \n",
      "1077   runs           98.0        236.0          20.0          N    NaN   \n",
      "\n",
      "                   umpire1               umpire2  \n",
      "0                Asad Rauf           RE Koertzen  \n",
      "9                Aleem Dar             AM Saheba  \n",
      "39               BF Bowden            SL Shastri  \n",
      "55               BF Bowden           RE Koertzen  \n",
      "59             BR Doctrove             RB Tiffin  \n",
      "...                    ...                   ...  \n",
      "1030              AG Wharf          Tapan Sharma  \n",
      "1039               A Totre             UV Gandhe  \n",
      "1058         J Madanagopal         Navdeep Singh  \n",
      "1069              R Pandit  MV Saidharshan Kumar  \n",
      "1077  MV Saidharshan Kumar              YC Barde  \n",
      "\n",
      "[65 rows x 20 columns]\n"
     ]
    }
   ],
   "source": [
    "# Calculate the mean and standard deviation for the result_margin column\n",
    "mu = df['result_margin'].mean()\n",
    "sigma = df['result_margin'].std()\n",
    "\n",
    "# Calculate the lower and upper bounds for outliers\n",
    "lower_bound = mu - 2 * sigma\n",
    "upper_bound = mu + 2 * sigma\n",
    "\n",
    "# Find the outliers\n",
    "outliers = df[(df['result_margin'] < lower_bound) | (df['result_margin'] > upper_bound)]\n",
    "print(outliers)"
   ]
  }
 ],
 "metadata": {
  "kernelspec": {
   "display_name": "Python 3 (ipykernel)",
   "language": "python",
   "name": "python3"
  },
  "language_info": {
   "codemirror_mode": {
    "name": "ipython",
    "version": 3
   },
   "file_extension": ".py",
   "mimetype": "text/x-python",
   "name": "python",
   "nbconvert_exporter": "python",
   "pygments_lexer": "ipython3",
   "version": "3.12.7"
  }
 },
 "nbformat": 4,
 "nbformat_minor": 2
}
