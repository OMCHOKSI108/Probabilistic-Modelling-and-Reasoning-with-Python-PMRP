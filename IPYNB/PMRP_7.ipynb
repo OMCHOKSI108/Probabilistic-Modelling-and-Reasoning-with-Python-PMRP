{
 "cells": [
  {
   "cell_type": "markdown",
   "metadata": {},
   "source": [
    "## 23AIML010 OM CHOKSI PMRP ASSIGNMENT 7 + CLASSWORK"
   ]
  },
  {
   "cell_type": "markdown",
   "metadata": {},
   "source": [
    "# PART 1: \n",
    "# Statistical Concepts Applied to Iris Dataset\n",
    "This dataset contains 150 samples of iris flowers, with four features (sepal length, sepal width,\n",
    "petal length, and petal width), and the target variable is the species of the flower.\n",
    "Let&#39;s begin by loading and exploring the dataset.\n",
    "1. Calculate basic descriptive statistics such as the mean, median, standard deviation, and\n",
    "more for each of the numeric columns.\n",
    "2. Normal Distribution (Check for Normality)\n",
    "check whether the `sepal_length` follows a normal distribution using a histogram and a Q-Q\n",
    "plot.\n",
    "3. Hypothesis Testing (One-Sample t-Test)\n",
    "perform a one-sample t-test to check if the average `sepal_length` is different from 5.0.\n",
    "4. Correlation Analysis\n",
    "calculate the Pearson correlation coefficient between `sepal_length` and `petal_length` to see if\n",
    "they are related.\n",
    "5. Simple Linear Regression\n",
    "perform a simple linear regression to predict `petal_length` based on `sepal_length`.\n",
    "6. ANOVA (One-Way Analysis of Variance)\n",
    "We will perform an ANOVA test to check if there is a significant difference in the `sepal_length`\n",
    "between different species.\n",
    "PART 2\n",
    "1. Calculate the 95% confidence interval for the `petal_length` for each species. Use the\n",
    "`petal_length` column and apply the `groupby()` function to compute the confidence interval by\n",
    "species.\n",
    "\n",
    "2. Find the correlation between `petal_length` and `petal_width`. Is it a strong positive, weak\n",
    "positive, or negative correlation? Provide the correlation coefficient and p-value.\n",
    "\n",
    "3. Conduct a Chi-Square test to see if there is an association between the `season` and\n",
    "`species`. You will need to categorize the `season` column (Spring, Summer, Fall, Winter) and\n",
    "check if the distribution of species varies by season.\n",
    "4. Calculate the Z-scores for `sepal_length` and identify if any values are outliers (with a\n",
    "\n",
    "threshold of ±3). How many outliers do you find?\n",
    "5. Create a pair plot to visualize the relationships between `sepal_length`, `sepal_width`,\n",
    "`petal_length`, and `petal_width`. Based on the plot, describe any patterns or correlations you\n",
    "observe."
   ]
  },
  {
   "cell_type": "markdown",
   "metadata": {},
   "source": [
    "This dataset contains 150 samples of iris flowers, with four features (sepal length, sepal width,\n",
    "petal length, and petal width), and the target variable is the species of the flower.\n",
    "Let&#39;s begin by loading and exploring the dataset."
   ]
  },
  {
   "cell_type": "code",
   "execution_count": null,
   "metadata": {},
   "outputs": [
    {
     "ename": "",
     "evalue": "",
     "output_type": "error",
     "traceback": [
      "\u001b[1;31mRunning cells with 'Python 3.11.9' requires the ipykernel package.\n",
      "\u001b[1;31mRun the following command to install 'ipykernel' into the Python environment. \n",
      "\u001b[1;31mCommand: 'c:/Users/omcho/AppData/Local/Microsoft/WindowsApps/python3.11.exe -m pip install ipykernel -U --user --force-reinstall'"
     ]
    }
   ],
   "source": [
    "import pandas as pd\n",
    "import numpy as np\n",
    "import seaborn as sns\n",
    "import matplotlib.pyplot as plt\n",
    "import scipy.stats as stats\n",
    "from sklearn.datasets import load_iris\n",
    "\n",
    "# Load Iris dataset\n",
    "iris = load_iris()\n",
    "df = pd.DataFrame(iris.data, columns=iris.feature_names)\n",
    "df['species'] = pd.Categorical.from_codes(iris.target, iris.target_names)\n",
    "\n",
    "print(df.describe, df.head(), df.shape, df.describe(), df.tail())"
   ]
  },
  {
   "cell_type": "markdown",
   "metadata": {},
   "source": [
    "1. Calculate basic descriptive statistics such as the mean, median, standard deviation, and more for each of the numeric columns.\n",
    "   Calculate basic descriptive statistics"
   ]
  },
  {
   "cell_type": "code",
   "execution_count": null,
   "metadata": {},
   "outputs": [],
   "source": [
    "print(\"Descriptive Statistics:\")\n",
    "print(df.describe())\n"
   ]
  },
  {
   "cell_type": "markdown",
   "metadata": {},
   "source": [
    " 2. Normal Distribution (Check for Normality)\n",
    " check whether the `sepal_length` follows a normal distribution using a histogram and a Q-Q\n",
    " plot."
   ]
  },
  {
   "cell_type": "code",
   "execution_count": null,
   "metadata": {},
   "outputs": [],
   "source": [
    "fig, axs = plt.subplots(1, 2, figsize=(12, 6))\n",
    "\n",
    "# Histogram\n",
    "sns.histplot(df['sepal length (cm)'], kde=True, ax=axs[0])\n",
    "axs[0].set_title(\"Histogram of Sepal Length\")\n",
    " \n",
    "# Q-Q Plot\n",
    "stats.probplot(df['sepal length (cm)'], dist=\"norm\", plot=axs[1])\n",
    "axs[1].set_title(\"Q-Q Plot of Sepal Length\")\n",
    "\n",
    "plt.tight_layout()\n",
    " \n",
    "\n"
   ]
  },
  {
   "cell_type": "markdown",
   "metadata": {},
   "source": [
    "3. Hypothesis Testing (One-Sample t-Test)\n",
    "perform a one-sample t-test to check if the average `sepal_length` is different from 5.0."
   ]
  },
  {
   "cell_type": "code",
   "execution_count": null,
   "metadata": {},
   "outputs": [],
   "source": [
    "t_stat, p_value = stats.ttest_1samp(df['sepal length (cm)'], 5.0)\n",
    "print(f\"One-Sample t-Test: t-statistic={t_stat:.3f}, p-value={p_value:.3f}\")"
   ]
  },
  {
   "cell_type": "markdown",
   "metadata": {},
   "source": [
    "4. Correlation Analysis calculate the Pearson correlation coefficient between `sepal_length` and `petal_length` to see if they are related."
   ]
  },
  {
   "cell_type": "code",
   "execution_count": null,
   "metadata": {},
   "outputs": [],
   "source": [
    "corr, p_val = stats.pearsonr(df['sepal length (cm)'], df['petal length (cm)'])\n",
    "print(f\"Pearson Correlation: r={corr:.3f}, p-value={p_val:.3f}\")"
   ]
  },
  {
   "cell_type": "markdown",
   "metadata": {},
   "source": [
    "5. Simple Linear Regression perform a simple linear regression to predict `petal_length` based on `sepal_length`."
   ]
  },
  {
   "cell_type": "code",
   "execution_count": null,
   "metadata": {},
   "outputs": [],
   "source": [
    "import pandas as pd\n",
    "import numpy as np\n",
    "import matplotlib.pyplot as plt\n",
    "import seaborn as sns\n",
    "from sklearn.linear_model import LinearRegression\n",
    "from sklearn.model_selection import train_test_split\n",
    "from sklearn.metrics import mean_squared_error, r2_score\n",
    "\n",
    "# Assuming df is your DataFrame\n",
    "# df = pd.read_csv('path_to_iris_dataset.csv')\n",
    "\n",
    "X = df[['sepal length (cm)']]\n",
    "y = df['petal length (cm)']\n",
    "\n",
    "X_train, X_test, y_train, y_test = train_test_split(X, y, test_size=0.2, random_state=42)\n",
    "\n",
    "model = LinearRegression()\n",
    "model.fit(X_train, y_train)\n",
    "\n",
    "# Make predictions\n",
    "y_pred = model.predict(X_test)\n",
    "\n",
    "# Print model parameters\n",
    "print(f\"Intercept: {model.intercept_}\")\n",
    "print(f\"Coefficient: {model.coef_[0]}\")\n",
    "\n",
    "# Model evaluation\n",
    "mse = mean_squared_error(y_test, y_pred)\n",
    "r2 = r2_score(y_test, y_pred)\n",
    "\n",
    "print(f\"Mean Squared Error: {mse:.4f}\")\n",
    "print(f\"R² Score: {r2:.4f}\")\n",
    "\n",
    "# Visualization\n",
    "plt.scatter(X_test, y_test, color='blue', label=\"Actual Data\")\n",
    "plt.plot(X_test, y_pred, color='red', linewidth=2, label=\"Regression Line\")\n",
    "plt.xlabel(\"Sepal Length (cm)\")\n",
    "plt.ylabel(\"Petal Length (cm)\")\n",
    "plt.title(\"Simple Linear Regression: Sepal Length vs. Petal Length\")\n",
    "plt.legend()\n",
    "plt.show()"
   ]
  },
  {
   "cell_type": "markdown",
   "metadata": {},
   "source": [
    " 6. ANOVA (One-Way Analysis of Variance)\n",
    " We will perform an ANOVA test to check if there is a significant difference in the `sepal_length` between different species.\n"
   ]
  },
  {
   "cell_type": "code",
   "execution_count": null,
   "metadata": {},
   "outputs": [],
   "source": [
    "groups = [df[df['species'] == species]['sepal length (cm)'] for species in df['species'].unique()]\n",
    "anova_result = stats.f_oneway(*groups)\n",
    "print(f\"ANOVA Results: F-statistic={anova_result.statistic:.3f}, p-value={anova_result.pvalue:.3f}\")"
   ]
  },
  {
   "cell_type": "markdown",
   "metadata": {},
   "source": [
    "# PART 2\n",
    "\n",
    "\n",
    "1. Calculate the 95% confidence interval for the `petal_length` for each species. Use the `petal_length` column and apply the `groupby()` function to compute the confidence interval by species.\n",
    "\n",
    "\n",
    "\n",
    "2. Find the correlation between `petal_length` and `petal_width`. Is it a strong positive, weak positive, or negative correlation? Provide the correlation coefficient and p-value.\n",
    "\n",
    "\n",
    "\n",
    "3. Conduct a Chi-Square test to see if there is an association between the `season` and `species`. You will need to categorize the `season` column (Spring, Summer, Fall, Winter) and check if the distribution of species varies by season.\n",
    "\n",
    "\n",
    "4. Calculate the Z-scores for `sepal_length` and identify if any values are outliers (with a threshold of ±3). How many outliers do you find?\n",
    "\n",
    "\n",
    "5. Create a pair plot to visualize the relationships between `sepal_length`, `sepal_width`, `petal_length`, and `petal_width`. Based on the plot, describe any patterns or correlations you observe."
   ]
  },
  {
   "cell_type": "markdown",
   "metadata": {},
   "source": [
    "1. Calculate the 95% confidence interval for the `petal_length` for each species. Use the `petal_length` column and apply the `groupby()` function to compute the confidence interval by species.\n",
    "\n"
   ]
  },
  {
   "cell_type": "code",
   "execution_count": null,
   "metadata": {},
   "outputs": [],
   "source": [
    "def confidence_interval(data):\n",
    "    mean = np.mean(data)\n",
    "    sem = stats.sem(data)\n",
    "    return stats.t.interval(0.95, len(data)-1, loc=mean, scale=sem)\n",
    "    \n",
    "ci_by_species = df.groupby('species')['petal length (cm)'].apply(confidence_interval)\n",
    "print(\"95% Confidence Intervals for Petal Length by Species:\")\n",
    "print(ci_by_species)"
   ]
  },
  {
   "cell_type": "markdown",
   "metadata": {},
   "source": [
    "\n",
    "2. Find the correlation between `petal_length` and `petal_width`. Is it a strong positive, weak positive, or negative correlation? Provide the correlation coefficient and p-value.\n",
    "\n"
   ]
  },
  {
   "cell_type": "code",
   "execution_count": null,
   "metadata": {},
   "outputs": [],
   "source": [
    "corr_pw, p_val_pw = stats.pearsonr(df['petal length (cm)'], df['petal width (cm)'])\n",
    "print(f\"Correlation between Petal Length and Petal Width: r={corr_pw:.3f}, p-value={p_val_pw:.3f}\")"
   ]
  },
  {
   "cell_type": "markdown",
   "metadata": {},
   "source": [
    "3. Conduct a Chi-Square test to see if there is an association between the `season` and `species`. You will need to categorize the `season` column (Spring, Summer, Fall, Winter) and check if the distribution of species varies by season.\n"
   ]
  },
  {
   "cell_type": "code",
   "execution_count": null,
   "metadata": {},
   "outputs": [],
   "source": [
    "df['season'] = np.random.choice(['Spring', 'Summer', 'Fall', 'Winter'], size=len(df))\n",
    "contingency_table = pd.crosstab(df['season'], df['species'])\n",
    "chi2, p, _, _ = stats.chi2_contingency(contingency_table)\n",
    "print(f\"Chi-Square Test: chi2={chi2:.3f}, p-value={p:.3f}\")"
   ]
  },
  {
   "cell_type": "markdown",
   "metadata": {},
   "source": [
    "\n",
    "\n",
    "4. Calculate the Z-scores for `sepal_length` and identify if any values are outliers (with a threshold of ±3). How many outliers do you find?\n"
   ]
  },
  {
   "cell_type": "code",
   "execution_count": null,
   "metadata": {},
   "outputs": [],
   "source": [
    "z_scores = stats.zscore(df['sepal length (cm)'])\n",
    "outliers = np.where(np.abs(z_scores) > 3)[0]\n",
    "print(f\"Number of Outliers in Sepal Length: {len(outliers)}\")"
   ]
  },
  {
   "cell_type": "markdown",
   "metadata": {},
   "source": [
    "\n",
    "\n",
    "5. Create a pair plot to visualize the relationships between `sepal_length`, `sepal_width`, `petal_length`, and `petal_width`. Based on the plot, describe any patterns or correlations you observe."
   ]
  },
  {
   "cell_type": "code",
   "execution_count": null,
   "metadata": {},
   "outputs": [],
   "source": [
    "sns.pairplot(df, vars=['sepal length (cm)', 'sepal width (cm)', 'petal length (cm)', 'petal width (cm)'], hue='species')\n",
    "plt.show()"
   ]
  },
  {
   "cell_type": "code",
   "execution_count": null,
   "metadata": {},
   "outputs": [],
   "source": []
  }
 ],
 "metadata": {
  "kernelspec": {
   "display_name": "Python 3",
   "language": "python",
   "name": "python3"
  },
  "language_info": {
   "codemirror_mode": {
    "name": "ipython",
    "version": 3
   },
   "file_extension": ".py",
   "mimetype": "text/x-python",
   "name": "python",
   "nbconvert_exporter": "python",
   "pygments_lexer": "ipython3",
   "version": "3.13.2"
  }
 },
 "nbformat": 4,
 "nbformat_minor": 2
}
